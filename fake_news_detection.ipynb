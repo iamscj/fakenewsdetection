{
  "metadata": {
    "kernelspec": {
      "display_name": "Python 3",
      "name": "python3"
    },
    "language_info": {
      "name": "python",
      "version": "3.10.12",
      "mimetype": "text/x-python",
      "codemirror_mode": {
        "name": "ipython",
        "version": 3
      },
      "pygments_lexer": "ipython3",
      "nbconvert_exporter": "python",
      "file_extension": ".py"
    },
    "colab": {
      "provenance": [],
      "gpuType": "T4",
      "include_colab_link": true
    },
    "accelerator": "GPU"
  },
  "nbformat_minor": 0,
  "nbformat": 4,
  "cells": [
    {
      "cell_type": "markdown",
      "metadata": {
        "id": "view-in-github",
        "colab_type": "text"
      },
      "source": [
        "<a href=\"https://colab.research.google.com/github/iamscj/fakenewsdetection/blob/main/fake_news_detection.ipynb\" target=\"_parent\"><img src=\"https://colab.research.google.com/assets/colab-badge.svg\" alt=\"Open In Colab\"/></a>"
      ]
    },
    {
      "cell_type": "code",
      "source": [
        "from google.colab import drive\n",
        "drive.mount('/content/drive')"
      ],
      "metadata": {
        "colab": {
          "base_uri": "https://localhost:8080/"
        },
        "id": "CR5539qvXbRR",
        "outputId": "f31a286c-7147-4926-9e67-58e5c9bd25fe"
      },
      "execution_count": null,
      "outputs": [
        {
          "output_type": "stream",
          "name": "stdout",
          "text": [
            "Mounted at /content/drive\n"
          ]
        }
      ]
    },
    {
      "cell_type": "code",
      "source": [
        "!pip install tensorflow"
      ],
      "metadata": {
        "execution": {
          "iopub.status.busy": "2023-10-01T17:46:22.287259Z",
          "iopub.execute_input": "2023-10-01T17:46:22.287586Z",
          "iopub.status.idle": "2023-10-01T17:46:22.291766Z",
          "shell.execute_reply.started": "2023-10-01T17:46:22.287560Z",
          "shell.execute_reply": "2023-10-01T17:46:22.290655Z"
        },
        "trusted": true,
        "id": "RRagT0VKXIga",
        "colab": {
          "base_uri": "https://localhost:8080/"
        },
        "outputId": "2416c44d-3379-4324-b21c-c99b1d3b7fe2"
      },
      "execution_count": null,
      "outputs": [
        {
          "output_type": "stream",
          "name": "stdout",
          "text": [
            "Requirement already satisfied: tensorflow in /usr/local/lib/python3.10/dist-packages (2.14.0)\n",
            "Requirement already satisfied: absl-py>=1.0.0 in /usr/local/lib/python3.10/dist-packages (from tensorflow) (1.4.0)\n",
            "Requirement already satisfied: astunparse>=1.6.0 in /usr/local/lib/python3.10/dist-packages (from tensorflow) (1.6.3)\n",
            "Requirement already satisfied: flatbuffers>=23.5.26 in /usr/local/lib/python3.10/dist-packages (from tensorflow) (23.5.26)\n",
            "Requirement already satisfied: gast!=0.5.0,!=0.5.1,!=0.5.2,>=0.2.1 in /usr/local/lib/python3.10/dist-packages (from tensorflow) (0.5.4)\n",
            "Requirement already satisfied: google-pasta>=0.1.1 in /usr/local/lib/python3.10/dist-packages (from tensorflow) (0.2.0)\n",
            "Requirement already satisfied: h5py>=2.9.0 in /usr/local/lib/python3.10/dist-packages (from tensorflow) (3.9.0)\n",
            "Requirement already satisfied: libclang>=13.0.0 in /usr/local/lib/python3.10/dist-packages (from tensorflow) (16.0.6)\n",
            "Requirement already satisfied: ml-dtypes==0.2.0 in /usr/local/lib/python3.10/dist-packages (from tensorflow) (0.2.0)\n",
            "Requirement already satisfied: numpy>=1.23.5 in /usr/local/lib/python3.10/dist-packages (from tensorflow) (1.23.5)\n",
            "Requirement already satisfied: opt-einsum>=2.3.2 in /usr/local/lib/python3.10/dist-packages (from tensorflow) (3.3.0)\n",
            "Requirement already satisfied: packaging in /usr/local/lib/python3.10/dist-packages (from tensorflow) (23.2)\n",
            "Requirement already satisfied: protobuf!=4.21.0,!=4.21.1,!=4.21.2,!=4.21.3,!=4.21.4,!=4.21.5,<5.0.0dev,>=3.20.3 in /usr/local/lib/python3.10/dist-packages (from tensorflow) (3.20.3)\n",
            "Requirement already satisfied: setuptools in /usr/local/lib/python3.10/dist-packages (from tensorflow) (67.7.2)\n",
            "Requirement already satisfied: six>=1.12.0 in /usr/local/lib/python3.10/dist-packages (from tensorflow) (1.16.0)\n",
            "Requirement already satisfied: termcolor>=1.1.0 in /usr/local/lib/python3.10/dist-packages (from tensorflow) (2.3.0)\n",
            "Requirement already satisfied: typing-extensions>=3.6.6 in /usr/local/lib/python3.10/dist-packages (from tensorflow) (4.5.0)\n",
            "Requirement already satisfied: wrapt<1.15,>=1.11.0 in /usr/local/lib/python3.10/dist-packages (from tensorflow) (1.14.1)\n",
            "Requirement already satisfied: tensorflow-io-gcs-filesystem>=0.23.1 in /usr/local/lib/python3.10/dist-packages (from tensorflow) (0.34.0)\n",
            "Requirement already satisfied: grpcio<2.0,>=1.24.3 in /usr/local/lib/python3.10/dist-packages (from tensorflow) (1.59.0)\n",
            "Requirement already satisfied: tensorboard<2.15,>=2.14 in /usr/local/lib/python3.10/dist-packages (from tensorflow) (2.14.1)\n",
            "Requirement already satisfied: tensorflow-estimator<2.15,>=2.14.0 in /usr/local/lib/python3.10/dist-packages (from tensorflow) (2.14.0)\n",
            "Requirement already satisfied: keras<2.15,>=2.14.0 in /usr/local/lib/python3.10/dist-packages (from tensorflow) (2.14.0)\n",
            "Requirement already satisfied: wheel<1.0,>=0.23.0 in /usr/local/lib/python3.10/dist-packages (from astunparse>=1.6.0->tensorflow) (0.41.2)\n",
            "Requirement already satisfied: google-auth<3,>=1.6.3 in /usr/local/lib/python3.10/dist-packages (from tensorboard<2.15,>=2.14->tensorflow) (2.17.3)\n",
            "Requirement already satisfied: google-auth-oauthlib<1.1,>=0.5 in /usr/local/lib/python3.10/dist-packages (from tensorboard<2.15,>=2.14->tensorflow) (1.0.0)\n",
            "Requirement already satisfied: markdown>=2.6.8 in /usr/local/lib/python3.10/dist-packages (from tensorboard<2.15,>=2.14->tensorflow) (3.5)\n",
            "Requirement already satisfied: requests<3,>=2.21.0 in /usr/local/lib/python3.10/dist-packages (from tensorboard<2.15,>=2.14->tensorflow) (2.31.0)\n",
            "Requirement already satisfied: tensorboard-data-server<0.8.0,>=0.7.0 in /usr/local/lib/python3.10/dist-packages (from tensorboard<2.15,>=2.14->tensorflow) (0.7.2)\n",
            "Requirement already satisfied: werkzeug>=1.0.1 in /usr/local/lib/python3.10/dist-packages (from tensorboard<2.15,>=2.14->tensorflow) (3.0.1)\n",
            "Requirement already satisfied: cachetools<6.0,>=2.0.0 in /usr/local/lib/python3.10/dist-packages (from google-auth<3,>=1.6.3->tensorboard<2.15,>=2.14->tensorflow) (5.3.2)\n",
            "Requirement already satisfied: pyasn1-modules>=0.2.1 in /usr/local/lib/python3.10/dist-packages (from google-auth<3,>=1.6.3->tensorboard<2.15,>=2.14->tensorflow) (0.3.0)\n",
            "Requirement already satisfied: rsa<5,>=3.1.4 in /usr/local/lib/python3.10/dist-packages (from google-auth<3,>=1.6.3->tensorboard<2.15,>=2.14->tensorflow) (4.9)\n",
            "Requirement already satisfied: requests-oauthlib>=0.7.0 in /usr/local/lib/python3.10/dist-packages (from google-auth-oauthlib<1.1,>=0.5->tensorboard<2.15,>=2.14->tensorflow) (1.3.1)\n",
            "Requirement already satisfied: charset-normalizer<4,>=2 in /usr/local/lib/python3.10/dist-packages (from requests<3,>=2.21.0->tensorboard<2.15,>=2.14->tensorflow) (3.3.1)\n",
            "Requirement already satisfied: idna<4,>=2.5 in /usr/local/lib/python3.10/dist-packages (from requests<3,>=2.21.0->tensorboard<2.15,>=2.14->tensorflow) (3.4)\n",
            "Requirement already satisfied: urllib3<3,>=1.21.1 in /usr/local/lib/python3.10/dist-packages (from requests<3,>=2.21.0->tensorboard<2.15,>=2.14->tensorflow) (2.0.7)\n",
            "Requirement already satisfied: certifi>=2017.4.17 in /usr/local/lib/python3.10/dist-packages (from requests<3,>=2.21.0->tensorboard<2.15,>=2.14->tensorflow) (2023.7.22)\n",
            "Requirement already satisfied: MarkupSafe>=2.1.1 in /usr/local/lib/python3.10/dist-packages (from werkzeug>=1.0.1->tensorboard<2.15,>=2.14->tensorflow) (2.1.3)\n",
            "Requirement already satisfied: pyasn1<0.6.0,>=0.4.6 in /usr/local/lib/python3.10/dist-packages (from pyasn1-modules>=0.2.1->google-auth<3,>=1.6.3->tensorboard<2.15,>=2.14->tensorflow) (0.5.0)\n",
            "Requirement already satisfied: oauthlib>=3.0.0 in /usr/local/lib/python3.10/dist-packages (from requests-oauthlib>=0.7.0->google-auth-oauthlib<1.1,>=0.5->tensorboard<2.15,>=2.14->tensorflow) (3.2.2)\n"
          ]
        }
      ]
    },
    {
      "cell_type": "code",
      "source": [
        "import tensorflow as tf\n",
        "tf.__version__"
      ],
      "metadata": {
        "execution": {
          "iopub.status.busy": "2023-10-01T17:46:22.292900Z",
          "iopub.execute_input": "2023-10-01T17:46:22.293677Z",
          "iopub.status.idle": "2023-10-01T17:46:32.511897Z",
          "shell.execute_reply.started": "2023-10-01T17:46:22.293650Z",
          "shell.execute_reply": "2023-10-01T17:46:32.510743Z"
        },
        "trusted": true,
        "colab": {
          "base_uri": "https://localhost:8080/",
          "height": 36
        },
        "id": "qwVJySPoXIgb",
        "outputId": "dbf05716-d4af-41d7-f4aa-5aaab7d198ec"
      },
      "execution_count": null,
      "outputs": [
        {
          "output_type": "execute_result",
          "data": {
            "text/plain": [
              "'2.14.0'"
            ],
            "application/vnd.google.colaboratory.intrinsic+json": {
              "type": "string"
            }
          },
          "metadata": {},
          "execution_count": 24
        }
      ]
    },
    {
      "cell_type": "code",
      "source": [
        "from tensorflow.keras.preprocessing.text import one_hot"
      ],
      "metadata": {
        "execution": {
          "iopub.status.busy": "2023-10-01T17:46:32.513987Z",
          "iopub.execute_input": "2023-10-01T17:46:32.514649Z",
          "iopub.status.idle": "2023-10-01T17:46:32.521557Z",
          "shell.execute_reply.started": "2023-10-01T17:46:32.514618Z",
          "shell.execute_reply": "2023-10-01T17:46:32.519936Z"
        },
        "trusted": true,
        "id": "vTzbHZHrXIgb"
      },
      "execution_count": null,
      "outputs": []
    },
    {
      "cell_type": "code",
      "source": [
        "import pandas as pd"
      ],
      "metadata": {
        "execution": {
          "iopub.status.busy": "2023-10-01T17:46:33.231888Z",
          "iopub.execute_input": "2023-10-01T17:46:33.232277Z",
          "iopub.status.idle": "2023-10-01T17:46:33.236855Z",
          "shell.execute_reply.started": "2023-10-01T17:46:33.232229Z",
          "shell.execute_reply": "2023-10-01T17:46:33.235794Z"
        },
        "trusted": true,
        "id": "x_835yrmXIgo"
      },
      "execution_count": null,
      "outputs": []
    },
    {
      "cell_type": "code",
      "source": [
        "def read_dataframe(tsv_file: str) -> pd.DataFrame:\n",
        "\n",
        "    # creates a \"dataframe\" or \"df\" for short. This is similar to a 2-D python dict.\n",
        "    df = pd.read_csv(tsv_file, delimiter='\\t', dtype=object)\n",
        "\n",
        "    # replaces all \"null\" or \"NaN\" values with an empty string\n",
        "    df.fillna(\"\", inplace=True)\n",
        "\n",
        "    # labels the columns in the dataset using the data dictionary described in the README\n",
        "    df.columns = [\n",
        "        'id',                # Column 1: the ID of the statement ([ID].json).\n",
        "        'label',             # Column 2: the label.\n",
        "        'title',         # Column 3: the statement.\n",
        "        'subjects',          # Column 4: the subject(s).\n",
        "        'author',           # Column 5: the speaker.\n",
        "        'speaker_job_title', # Column 6: the speaker's job title.\n",
        "        'state_info',        # Column 7: the state info.\n",
        "        'party_affiliation', # Column 8: the party affiliation.\n",
        "\n",
        "        # Column 9-13: the total credit history count, including the current statement.\n",
        "        'count_1', # barely true counts.\n",
        "        'count_2', # false counts.\n",
        "        'count_3', # half true counts.\n",
        "        'count_4', # mostly true counts.\n",
        "        'count_5', # pants on fire counts.\n",
        "\n",
        "        'context' # Column 14: the context (venue / location of the speech or statement).\n",
        "    ]\n",
        "\n",
        "    return df\n",
        "\n",
        "#create a dataframe from the training data\n",
        "df = read_dataframe('/content/drive/MyDrive/FakeNewsDataset/train.tsv')"
      ],
      "metadata": {
        "execution": {
          "iopub.status.busy": "2023-10-01T17:46:33.238317Z",
          "iopub.execute_input": "2023-10-01T17:46:33.239331Z",
          "iopub.status.idle": "2023-10-01T17:46:33.396888Z",
          "shell.execute_reply.started": "2023-10-01T17:46:33.239303Z",
          "shell.execute_reply": "2023-10-01T17:46:33.395714Z"
        },
        "trusted": true,
        "id": "f_3PpKnYXIgo"
      },
      "execution_count": null,
      "outputs": []
    },
    {
      "cell_type": "code",
      "source": [
        "df['title'][0]"
      ],
      "metadata": {
        "execution": {
          "iopub.status.busy": "2023-10-01T17:46:33.398696Z",
          "iopub.execute_input": "2023-10-01T17:46:33.399097Z",
          "iopub.status.idle": "2023-10-01T17:46:33.412300Z",
          "shell.execute_reply.started": "2023-10-01T17:46:33.399058Z",
          "shell.execute_reply": "2023-10-01T17:46:33.411334Z"
        },
        "trusted": true,
        "colab": {
          "base_uri": "https://localhost:8080/",
          "height": 36
        },
        "id": "iNwY4Wx0XIgo",
        "outputId": "7a6f3f2a-9870-4361-e885-a465a8da6d21"
      },
      "execution_count": null,
      "outputs": [
        {
          "output_type": "execute_result",
          "data": {
            "text/plain": [
              "'When did the decline of coal start? It started when natural gas took off that started to begin in (President George W.) Bushs administration.'"
            ],
            "application/vnd.google.colaboratory.intrinsic+json": {
              "type": "string"
            }
          },
          "metadata": {},
          "execution_count": 28
        }
      ]
    },
    {
      "cell_type": "code",
      "source": [
        "df['label'] = df['label'].apply(lambda x: 0 if x in ['mostly-true', 'true'] else 1)\n",
        "df.head()"
      ],
      "metadata": {
        "execution": {
          "iopub.status.busy": "2023-10-01T17:46:33.413651Z",
          "iopub.execute_input": "2023-10-01T17:46:33.413928Z",
          "iopub.status.idle": "2023-10-01T17:46:33.444772Z",
          "shell.execute_reply.started": "2023-10-01T17:46:33.413905Z",
          "shell.execute_reply": "2023-10-01T17:46:33.443685Z"
        },
        "trusted": true,
        "colab": {
          "base_uri": "https://localhost:8080/",
          "height": 379
        },
        "id": "tmoRrth1XIgp",
        "outputId": "c5b6add1-92b2-4138-e8ec-bf1850b51c44"
      },
      "execution_count": null,
      "outputs": [
        {
          "output_type": "execute_result",
          "data": {
            "text/plain": [
              "           id  label                                              title  \\\n",
              "0  10540.json      1  When did the decline of coal start? It started...   \n",
              "1    324.json      0  Hillary Clinton agrees with John McCain \"by vo...   \n",
              "2   1123.json      1  Health care reform legislation is likely to ma...   \n",
              "3   9028.json      1  The economic turnaround started at the end of ...   \n",
              "4  12465.json      0  The Chicago Bears have had more starting quart...   \n",
              "\n",
              "                             subjects          author  \\\n",
              "0  energy,history,job-accomplishments  scott-surovell   \n",
              "1                      foreign-policy    barack-obama   \n",
              "2                         health-care    blog-posting   \n",
              "3                        economy,jobs   charlie-crist   \n",
              "4                           education       robin-vos   \n",
              "\n",
              "            speaker_job_title state_info party_affiliation count_1 count_2  \\\n",
              "0              State delegate   Virginia          democrat       0       0   \n",
              "1                   President   Illinois          democrat      70      71   \n",
              "2                                                     none       7      19   \n",
              "3                                Florida          democrat      15       9   \n",
              "4  Wisconsin Assembly speaker  Wisconsin        republican       0       3   \n",
              "\n",
              "  count_3 count_4 count_5                    context  \n",
              "0       1       1       0            a floor speech.  \n",
              "1     160     163       9                     Denver  \n",
              "2       3       5      44             a news release  \n",
              "3      20      19       2        an interview on CNN  \n",
              "4       2       5       1  a an online opinion-piece  "
            ],
            "text/html": [
              "\n",
              "  <div id=\"df-df25ba99-a027-493b-819d-a6433ae537e3\" class=\"colab-df-container\">\n",
              "    <div>\n",
              "<style scoped>\n",
              "    .dataframe tbody tr th:only-of-type {\n",
              "        vertical-align: middle;\n",
              "    }\n",
              "\n",
              "    .dataframe tbody tr th {\n",
              "        vertical-align: top;\n",
              "    }\n",
              "\n",
              "    .dataframe thead th {\n",
              "        text-align: right;\n",
              "    }\n",
              "</style>\n",
              "<table border=\"1\" class=\"dataframe\">\n",
              "  <thead>\n",
              "    <tr style=\"text-align: right;\">\n",
              "      <th></th>\n",
              "      <th>id</th>\n",
              "      <th>label</th>\n",
              "      <th>title</th>\n",
              "      <th>subjects</th>\n",
              "      <th>author</th>\n",
              "      <th>speaker_job_title</th>\n",
              "      <th>state_info</th>\n",
              "      <th>party_affiliation</th>\n",
              "      <th>count_1</th>\n",
              "      <th>count_2</th>\n",
              "      <th>count_3</th>\n",
              "      <th>count_4</th>\n",
              "      <th>count_5</th>\n",
              "      <th>context</th>\n",
              "    </tr>\n",
              "  </thead>\n",
              "  <tbody>\n",
              "    <tr>\n",
              "      <th>0</th>\n",
              "      <td>10540.json</td>\n",
              "      <td>1</td>\n",
              "      <td>When did the decline of coal start? It started...</td>\n",
              "      <td>energy,history,job-accomplishments</td>\n",
              "      <td>scott-surovell</td>\n",
              "      <td>State delegate</td>\n",
              "      <td>Virginia</td>\n",
              "      <td>democrat</td>\n",
              "      <td>0</td>\n",
              "      <td>0</td>\n",
              "      <td>1</td>\n",
              "      <td>1</td>\n",
              "      <td>0</td>\n",
              "      <td>a floor speech.</td>\n",
              "    </tr>\n",
              "    <tr>\n",
              "      <th>1</th>\n",
              "      <td>324.json</td>\n",
              "      <td>0</td>\n",
              "      <td>Hillary Clinton agrees with John McCain \"by vo...</td>\n",
              "      <td>foreign-policy</td>\n",
              "      <td>barack-obama</td>\n",
              "      <td>President</td>\n",
              "      <td>Illinois</td>\n",
              "      <td>democrat</td>\n",
              "      <td>70</td>\n",
              "      <td>71</td>\n",
              "      <td>160</td>\n",
              "      <td>163</td>\n",
              "      <td>9</td>\n",
              "      <td>Denver</td>\n",
              "    </tr>\n",
              "    <tr>\n",
              "      <th>2</th>\n",
              "      <td>1123.json</td>\n",
              "      <td>1</td>\n",
              "      <td>Health care reform legislation is likely to ma...</td>\n",
              "      <td>health-care</td>\n",
              "      <td>blog-posting</td>\n",
              "      <td></td>\n",
              "      <td></td>\n",
              "      <td>none</td>\n",
              "      <td>7</td>\n",
              "      <td>19</td>\n",
              "      <td>3</td>\n",
              "      <td>5</td>\n",
              "      <td>44</td>\n",
              "      <td>a news release</td>\n",
              "    </tr>\n",
              "    <tr>\n",
              "      <th>3</th>\n",
              "      <td>9028.json</td>\n",
              "      <td>1</td>\n",
              "      <td>The economic turnaround started at the end of ...</td>\n",
              "      <td>economy,jobs</td>\n",
              "      <td>charlie-crist</td>\n",
              "      <td></td>\n",
              "      <td>Florida</td>\n",
              "      <td>democrat</td>\n",
              "      <td>15</td>\n",
              "      <td>9</td>\n",
              "      <td>20</td>\n",
              "      <td>19</td>\n",
              "      <td>2</td>\n",
              "      <td>an interview on CNN</td>\n",
              "    </tr>\n",
              "    <tr>\n",
              "      <th>4</th>\n",
              "      <td>12465.json</td>\n",
              "      <td>0</td>\n",
              "      <td>The Chicago Bears have had more starting quart...</td>\n",
              "      <td>education</td>\n",
              "      <td>robin-vos</td>\n",
              "      <td>Wisconsin Assembly speaker</td>\n",
              "      <td>Wisconsin</td>\n",
              "      <td>republican</td>\n",
              "      <td>0</td>\n",
              "      <td>3</td>\n",
              "      <td>2</td>\n",
              "      <td>5</td>\n",
              "      <td>1</td>\n",
              "      <td>a an online opinion-piece</td>\n",
              "    </tr>\n",
              "  </tbody>\n",
              "</table>\n",
              "</div>\n",
              "    <div class=\"colab-df-buttons\">\n",
              "\n",
              "  <div class=\"colab-df-container\">\n",
              "    <button class=\"colab-df-convert\" onclick=\"convertToInteractive('df-df25ba99-a027-493b-819d-a6433ae537e3')\"\n",
              "            title=\"Convert this dataframe to an interactive table.\"\n",
              "            style=\"display:none;\">\n",
              "\n",
              "  <svg xmlns=\"http://www.w3.org/2000/svg\" height=\"24px\" viewBox=\"0 -960 960 960\">\n",
              "    <path d=\"M120-120v-720h720v720H120Zm60-500h600v-160H180v160Zm220 220h160v-160H400v160Zm0 220h160v-160H400v160ZM180-400h160v-160H180v160Zm440 0h160v-160H620v160ZM180-180h160v-160H180v160Zm440 0h160v-160H620v160Z\"/>\n",
              "  </svg>\n",
              "    </button>\n",
              "\n",
              "  <style>\n",
              "    .colab-df-container {\n",
              "      display:flex;\n",
              "      gap: 12px;\n",
              "    }\n",
              "\n",
              "    .colab-df-convert {\n",
              "      background-color: #E8F0FE;\n",
              "      border: none;\n",
              "      border-radius: 50%;\n",
              "      cursor: pointer;\n",
              "      display: none;\n",
              "      fill: #1967D2;\n",
              "      height: 32px;\n",
              "      padding: 0 0 0 0;\n",
              "      width: 32px;\n",
              "    }\n",
              "\n",
              "    .colab-df-convert:hover {\n",
              "      background-color: #E2EBFA;\n",
              "      box-shadow: 0px 1px 2px rgba(60, 64, 67, 0.3), 0px 1px 3px 1px rgba(60, 64, 67, 0.15);\n",
              "      fill: #174EA6;\n",
              "    }\n",
              "\n",
              "    .colab-df-buttons div {\n",
              "      margin-bottom: 4px;\n",
              "    }\n",
              "\n",
              "    [theme=dark] .colab-df-convert {\n",
              "      background-color: #3B4455;\n",
              "      fill: #D2E3FC;\n",
              "    }\n",
              "\n",
              "    [theme=dark] .colab-df-convert:hover {\n",
              "      background-color: #434B5C;\n",
              "      box-shadow: 0px 1px 3px 1px rgba(0, 0, 0, 0.15);\n",
              "      filter: drop-shadow(0px 1px 2px rgba(0, 0, 0, 0.3));\n",
              "      fill: #FFFFFF;\n",
              "    }\n",
              "  </style>\n",
              "\n",
              "    <script>\n",
              "      const buttonEl =\n",
              "        document.querySelector('#df-df25ba99-a027-493b-819d-a6433ae537e3 button.colab-df-convert');\n",
              "      buttonEl.style.display =\n",
              "        google.colab.kernel.accessAllowed ? 'block' : 'none';\n",
              "\n",
              "      async function convertToInteractive(key) {\n",
              "        const element = document.querySelector('#df-df25ba99-a027-493b-819d-a6433ae537e3');\n",
              "        const dataTable =\n",
              "          await google.colab.kernel.invokeFunction('convertToInteractive',\n",
              "                                                    [key], {});\n",
              "        if (!dataTable) return;\n",
              "\n",
              "        const docLinkHtml = 'Like what you see? Visit the ' +\n",
              "          '<a target=\"_blank\" href=https://colab.research.google.com/notebooks/data_table.ipynb>data table notebook</a>'\n",
              "          + ' to learn more about interactive tables.';\n",
              "        element.innerHTML = '';\n",
              "        dataTable['output_type'] = 'display_data';\n",
              "        await google.colab.output.renderOutput(dataTable, element);\n",
              "        const docLink = document.createElement('div');\n",
              "        docLink.innerHTML = docLinkHtml;\n",
              "        element.appendChild(docLink);\n",
              "      }\n",
              "    </script>\n",
              "  </div>\n",
              "\n",
              "\n",
              "<div id=\"df-d7a8775a-603e-4b02-81e4-e3140e2ca3b9\">\n",
              "  <button class=\"colab-df-quickchart\" onclick=\"quickchart('df-d7a8775a-603e-4b02-81e4-e3140e2ca3b9')\"\n",
              "            title=\"Suggest charts.\"\n",
              "            style=\"display:none;\">\n",
              "\n",
              "<svg xmlns=\"http://www.w3.org/2000/svg\" height=\"24px\"viewBox=\"0 0 24 24\"\n",
              "     width=\"24px\">\n",
              "    <g>\n",
              "        <path d=\"M19 3H5c-1.1 0-2 .9-2 2v14c0 1.1.9 2 2 2h14c1.1 0 2-.9 2-2V5c0-1.1-.9-2-2-2zM9 17H7v-7h2v7zm4 0h-2V7h2v10zm4 0h-2v-4h2v4z\"/>\n",
              "    </g>\n",
              "</svg>\n",
              "  </button>\n",
              "\n",
              "<style>\n",
              "  .colab-df-quickchart {\n",
              "      --bg-color: #E8F0FE;\n",
              "      --fill-color: #1967D2;\n",
              "      --hover-bg-color: #E2EBFA;\n",
              "      --hover-fill-color: #174EA6;\n",
              "      --disabled-fill-color: #AAA;\n",
              "      --disabled-bg-color: #DDD;\n",
              "  }\n",
              "\n",
              "  [theme=dark] .colab-df-quickchart {\n",
              "      --bg-color: #3B4455;\n",
              "      --fill-color: #D2E3FC;\n",
              "      --hover-bg-color: #434B5C;\n",
              "      --hover-fill-color: #FFFFFF;\n",
              "      --disabled-bg-color: #3B4455;\n",
              "      --disabled-fill-color: #666;\n",
              "  }\n",
              "\n",
              "  .colab-df-quickchart {\n",
              "    background-color: var(--bg-color);\n",
              "    border: none;\n",
              "    border-radius: 50%;\n",
              "    cursor: pointer;\n",
              "    display: none;\n",
              "    fill: var(--fill-color);\n",
              "    height: 32px;\n",
              "    padding: 0;\n",
              "    width: 32px;\n",
              "  }\n",
              "\n",
              "  .colab-df-quickchart:hover {\n",
              "    background-color: var(--hover-bg-color);\n",
              "    box-shadow: 0 1px 2px rgba(60, 64, 67, 0.3), 0 1px 3px 1px rgba(60, 64, 67, 0.15);\n",
              "    fill: var(--button-hover-fill-color);\n",
              "  }\n",
              "\n",
              "  .colab-df-quickchart-complete:disabled,\n",
              "  .colab-df-quickchart-complete:disabled:hover {\n",
              "    background-color: var(--disabled-bg-color);\n",
              "    fill: var(--disabled-fill-color);\n",
              "    box-shadow: none;\n",
              "  }\n",
              "\n",
              "  .colab-df-spinner {\n",
              "    border: 2px solid var(--fill-color);\n",
              "    border-color: transparent;\n",
              "    border-bottom-color: var(--fill-color);\n",
              "    animation:\n",
              "      spin 1s steps(1) infinite;\n",
              "  }\n",
              "\n",
              "  @keyframes spin {\n",
              "    0% {\n",
              "      border-color: transparent;\n",
              "      border-bottom-color: var(--fill-color);\n",
              "      border-left-color: var(--fill-color);\n",
              "    }\n",
              "    20% {\n",
              "      border-color: transparent;\n",
              "      border-left-color: var(--fill-color);\n",
              "      border-top-color: var(--fill-color);\n",
              "    }\n",
              "    30% {\n",
              "      border-color: transparent;\n",
              "      border-left-color: var(--fill-color);\n",
              "      border-top-color: var(--fill-color);\n",
              "      border-right-color: var(--fill-color);\n",
              "    }\n",
              "    40% {\n",
              "      border-color: transparent;\n",
              "      border-right-color: var(--fill-color);\n",
              "      border-top-color: var(--fill-color);\n",
              "    }\n",
              "    60% {\n",
              "      border-color: transparent;\n",
              "      border-right-color: var(--fill-color);\n",
              "    }\n",
              "    80% {\n",
              "      border-color: transparent;\n",
              "      border-right-color: var(--fill-color);\n",
              "      border-bottom-color: var(--fill-color);\n",
              "    }\n",
              "    90% {\n",
              "      border-color: transparent;\n",
              "      border-bottom-color: var(--fill-color);\n",
              "    }\n",
              "  }\n",
              "</style>\n",
              "\n",
              "  <script>\n",
              "    async function quickchart(key) {\n",
              "      const quickchartButtonEl =\n",
              "        document.querySelector('#' + key + ' button');\n",
              "      quickchartButtonEl.disabled = true;  // To prevent multiple clicks.\n",
              "      quickchartButtonEl.classList.add('colab-df-spinner');\n",
              "      try {\n",
              "        const charts = await google.colab.kernel.invokeFunction(\n",
              "            'suggestCharts', [key], {});\n",
              "      } catch (error) {\n",
              "        console.error('Error during call to suggestCharts:', error);\n",
              "      }\n",
              "      quickchartButtonEl.classList.remove('colab-df-spinner');\n",
              "      quickchartButtonEl.classList.add('colab-df-quickchart-complete');\n",
              "    }\n",
              "    (() => {\n",
              "      let quickchartButtonEl =\n",
              "        document.querySelector('#df-d7a8775a-603e-4b02-81e4-e3140e2ca3b9 button');\n",
              "      quickchartButtonEl.style.display =\n",
              "        google.colab.kernel.accessAllowed ? 'block' : 'none';\n",
              "    })();\n",
              "  </script>\n",
              "</div>\n",
              "    </div>\n",
              "  </div>\n"
            ]
          },
          "metadata": {},
          "execution_count": 29
        }
      ]
    },
    {
      "cell_type": "code",
      "source": [
        "###Drop Nan Values\n",
        "df=df.dropna()"
      ],
      "metadata": {
        "execution": {
          "iopub.status.busy": "2023-10-01T17:46:33.467047Z",
          "iopub.execute_input": "2023-10-01T17:46:33.467357Z",
          "iopub.status.idle": "2023-10-01T17:46:33.495374Z",
          "shell.execute_reply.started": "2023-10-01T17:46:33.467331Z",
          "shell.execute_reply": "2023-10-01T17:46:33.494592Z"
        },
        "trusted": true,
        "id": "w28ismqwXIgp"
      },
      "execution_count": null,
      "outputs": []
    },
    {
      "cell_type": "code",
      "source": [
        "## Get the Independent Features\n",
        "\n",
        "X=df.drop('label',axis=1)"
      ],
      "metadata": {
        "execution": {
          "iopub.status.busy": "2023-10-01T17:46:33.496358Z",
          "iopub.execute_input": "2023-10-01T17:46:33.497040Z",
          "iopub.status.idle": "2023-10-01T17:46:33.508044Z",
          "shell.execute_reply.started": "2023-10-01T17:46:33.497009Z",
          "shell.execute_reply": "2023-10-01T17:46:33.506895Z"
        },
        "trusted": true,
        "id": "8pZfIo7MXIgq"
      },
      "execution_count": null,
      "outputs": []
    },
    {
      "cell_type": "code",
      "source": [
        "## Get the Dependent features\n",
        "y=df['label']"
      ],
      "metadata": {
        "execution": {
          "iopub.status.busy": "2023-10-01T17:46:33.510163Z",
          "iopub.execute_input": "2023-10-01T17:46:33.511178Z",
          "iopub.status.idle": "2023-10-01T17:46:33.519776Z",
          "shell.execute_reply.started": "2023-10-01T17:46:33.511146Z",
          "shell.execute_reply": "2023-10-01T17:46:33.518616Z"
        },
        "trusted": true,
        "id": "oBDWHOvXXIgq"
      },
      "execution_count": null,
      "outputs": []
    },
    {
      "cell_type": "code",
      "source": [
        "y.value_counts()"
      ],
      "metadata": {
        "execution": {
          "iopub.status.busy": "2023-10-01T17:46:33.520897Z",
          "iopub.execute_input": "2023-10-01T17:46:33.521599Z",
          "iopub.status.idle": "2023-10-01T17:46:33.538746Z",
          "shell.execute_reply.started": "2023-10-01T17:46:33.521570Z",
          "shell.execute_reply": "2023-10-01T17:46:33.537489Z"
        },
        "trusted": true,
        "colab": {
          "base_uri": "https://localhost:8080/"
        },
        "id": "t-qVis_jXIgq",
        "outputId": "daa54bed-1460-4c63-81e0-f7c86740825c"
      },
      "execution_count": null,
      "outputs": [
        {
          "output_type": "execute_result",
          "data": {
            "text/plain": [
              "1    6601\n",
              "0    3638\n",
              "Name: label, dtype: int64"
            ]
          },
          "metadata": {},
          "execution_count": 33
        }
      ]
    },
    {
      "cell_type": "code",
      "source": [
        "X.shape"
      ],
      "metadata": {
        "execution": {
          "iopub.status.busy": "2023-10-01T17:46:33.545433Z",
          "iopub.execute_input": "2023-10-01T17:46:33.545979Z",
          "iopub.status.idle": "2023-10-01T17:46:33.553362Z",
          "shell.execute_reply.started": "2023-10-01T17:46:33.545938Z",
          "shell.execute_reply": "2023-10-01T17:46:33.552266Z"
        },
        "trusted": true,
        "colab": {
          "base_uri": "https://localhost:8080/"
        },
        "id": "j5BmfscjXIgq",
        "outputId": "4c13a5f6-0b2f-4748-f31e-dd99b76e9347"
      },
      "execution_count": null,
      "outputs": [
        {
          "output_type": "execute_result",
          "data": {
            "text/plain": [
              "(10239, 13)"
            ]
          },
          "metadata": {},
          "execution_count": 34
        }
      ]
    },
    {
      "cell_type": "code",
      "source": [
        "y.shape"
      ],
      "metadata": {
        "execution": {
          "iopub.status.busy": "2023-10-01T17:46:33.555049Z",
          "iopub.execute_input": "2023-10-01T17:46:33.555603Z",
          "iopub.status.idle": "2023-10-01T17:46:33.568045Z",
          "shell.execute_reply.started": "2023-10-01T17:46:33.555562Z",
          "shell.execute_reply": "2023-10-01T17:46:33.566767Z"
        },
        "trusted": true,
        "colab": {
          "base_uri": "https://localhost:8080/"
        },
        "id": "TaaCjX8GXIgr",
        "outputId": "19275e00-d936-4210-93ed-d8580c9431de"
      },
      "execution_count": null,
      "outputs": [
        {
          "output_type": "execute_result",
          "data": {
            "text/plain": [
              "(10239,)"
            ]
          },
          "metadata": {},
          "execution_count": 35
        }
      ]
    },
    {
      "cell_type": "code",
      "source": [
        "from tensorflow.keras.layers import Embedding\n",
        "from tensorflow.keras.preprocessing.sequence import pad_sequences\n",
        "from tensorflow.keras.models import Sequential\n",
        "from tensorflow.keras.preprocessing.text import one_hot\n",
        "from tensorflow.keras.layers import LSTM\n",
        "from tensorflow.keras.layers import Dense"
      ],
      "metadata": {
        "id": "NZIpBZTPqqv6"
      },
      "execution_count": null,
      "outputs": []
    },
    {
      "cell_type": "code",
      "source": [
        "### Vocabulary size\n",
        "voc_size=5000"
      ],
      "metadata": {
        "id": "6N8Sg44ZqwWq"
      },
      "execution_count": null,
      "outputs": []
    },
    {
      "cell_type": "code",
      "source": [
        "messages=X.copy()"
      ],
      "metadata": {
        "id": "zWatG2BVqx9w"
      },
      "execution_count": null,
      "outputs": []
    },
    {
      "cell_type": "code",
      "source": [
        "messages['title'][0]"
      ],
      "metadata": {
        "colab": {
          "base_uri": "https://localhost:8080/",
          "height": 36
        },
        "id": "VMYV_nmGqztK",
        "outputId": "1128fcca-2b88-4fc7-9b15-6ba488b31b96"
      },
      "execution_count": null,
      "outputs": [
        {
          "output_type": "execute_result",
          "data": {
            "text/plain": [
              "'When did the decline of coal start? It started when natural gas took off that started to begin in (President George W.) Bushs administration.'"
            ],
            "application/vnd.google.colaboratory.intrinsic+json": {
              "type": "string"
            }
          },
          "metadata": {},
          "execution_count": 39
        }
      ]
    },
    {
      "cell_type": "code",
      "source": [
        "#reset the index in messages as nan values are dropped\n",
        "messages.reset_index(inplace=True)"
      ],
      "metadata": {
        "id": "NdLl52BQq1Us"
      },
      "execution_count": null,
      "outputs": []
    },
    {
      "cell_type": "code",
      "source": [
        "import nltk\n",
        "import re\n",
        "from nltk.corpus import stopwords"
      ],
      "metadata": {
        "id": "X33sMCuGq27i"
      },
      "execution_count": null,
      "outputs": []
    },
    {
      "cell_type": "code",
      "source": [
        "nltk.download('stopwords')"
      ],
      "metadata": {
        "colab": {
          "base_uri": "https://localhost:8080/"
        },
        "id": "wkRR5xKWq40X",
        "outputId": "6b35b9a0-d7d1-4d04-db86-5a522a85e199"
      },
      "execution_count": null,
      "outputs": [
        {
          "output_type": "stream",
          "name": "stderr",
          "text": [
            "[nltk_data] Downloading package stopwords to /root/nltk_data...\n",
            "[nltk_data]   Unzipping corpora/stopwords.zip.\n"
          ]
        },
        {
          "output_type": "execute_result",
          "data": {
            "text/plain": [
              "True"
            ]
          },
          "metadata": {},
          "execution_count": 42
        }
      ]
    },
    {
      "cell_type": "markdown",
      "source": [
        "# **Preprocessing of Data**\n",
        "**Role of Stemming** : The role of stemming is to normalize words so that different forms of the same word are treated as identical, even if they have different suffixes or prefixes."
      ],
      "metadata": {
        "id": "wf_rnYSwq9I9"
      }
    },
    {
      "cell_type": "code",
      "source": [
        "### Dataset Preprocessing\n",
        "from nltk.stem.porter import PorterStemmer\n",
        "ps = PorterStemmer()\n",
        "corpus = []\n",
        "for i in range(0, len(messages)):\n",
        "\n",
        "    #replace unnecessary characters with spaces using regex\n",
        "    review = re.sub('[^a-zA-Z]', ' ', messages['title'][i])\n",
        "\n",
        "    #lower\n",
        "    review = review.lower()\n",
        "    review = review.split()\n",
        "\n",
        "    review = [ps.stem(word) for word in review if not word in stopwords.words('english')]\n",
        "    review = ' '.join(review)\n",
        "    corpus.append(review)\n",
        "\n",
        "print(len(messages))"
      ],
      "metadata": {
        "colab": {
          "base_uri": "https://localhost:8080/"
        },
        "id": "iDEt3nVWq6Sk",
        "outputId": "4538a4d9-f49a-4b7b-9308-c33181dc5169"
      },
      "execution_count": null,
      "outputs": [
        {
          "output_type": "stream",
          "name": "stdout",
          "text": [
            "10239\n"
          ]
        }
      ]
    },
    {
      "cell_type": "code",
      "source": [
        "corpus[0:5]"
      ],
      "metadata": {
        "colab": {
          "base_uri": "https://localhost:8080/"
        },
        "id": "gHeSZRTnrDM4",
        "outputId": "14f1da70-0f31-4382-81f9-c96de05f2ba5"
      },
      "execution_count": null,
      "outputs": [
        {
          "output_type": "execute_result",
          "data": {
            "text/plain": [
              "['declin coal start start natur ga took start begin presid georg w bush administr',\n",
              " 'hillari clinton agre john mccain vote give georg bush benefit doubt iran',\n",
              " 'health care reform legisl like mandat free sex chang surgeri',\n",
              " 'econom turnaround start end term',\n",
              " 'chicago bear start quarterback last year total number tenur uw faculti fire last two decad']"
            ]
          },
          "metadata": {},
          "execution_count": 44
        }
      ]
    },
    {
      "cell_type": "code",
      "source": [
        "onehot_repr=[one_hot(words,voc_size)for words in corpus]\n",
        "# onehot_repr"
      ],
      "metadata": {
        "id": "V-4udFQlrEsw"
      },
      "execution_count": null,
      "outputs": []
    },
    {
      "cell_type": "code",
      "source": [
        "sent_length=20\n",
        "embedded_docs=pad_sequences(onehot_repr,padding='pre',maxlen=sent_length)\n",
        "print(embedded_docs)"
      ],
      "metadata": {
        "colab": {
          "base_uri": "https://localhost:8080/"
        },
        "id": "R0njffWwrGBo",
        "outputId": "e004fdc3-97d5-48c5-94e5-de65c5881814"
      },
      "execution_count": null,
      "outputs": [
        {
          "output_type": "stream",
          "name": "stdout",
          "text": [
            "[[   0    0    0 ... 1071 4363 4016]\n",
            " [   0    0    0 ... 4569 4160  617]\n",
            " [   0    0    0 ... 4618 4916  290]\n",
            " ...\n",
            " [   0    0    0 ...  551 1123  398]\n",
            " [   0    0    0 ... 1295  695 1368]\n",
            " [   0    0    0 ...  452  474   22]]\n"
          ]
        }
      ]
    },
    {
      "cell_type": "code",
      "source": [
        "embedded_docs[0]"
      ],
      "metadata": {
        "colab": {
          "base_uri": "https://localhost:8080/"
        },
        "id": "cZBhF4mjrHhd",
        "outputId": "da89bd6f-7f2b-4674-e5e0-27a4f2c27928"
      },
      "execution_count": null,
      "outputs": [
        {
          "output_type": "execute_result",
          "data": {
            "text/plain": [
              "array([   0,    0,    0,    0,    0,    0, 2878, 4300, 3669, 3669, 1291,\n",
              "       3588, 4580, 3669, 2554, 4036, 4080, 1071, 4363, 4016], dtype=int32)"
            ]
          },
          "metadata": {},
          "execution_count": 47
        }
      ]
    },
    {
      "cell_type": "markdown",
      "source": [
        "# Creating The Model"
      ],
      "metadata": {
        "id": "Z5xk6sp_rLq5"
      }
    },
    {
      "cell_type": "code",
      "source": [
        "## Creating model\n",
        "embedding_vector_features=40\n",
        "model=Sequential()\n",
        "model.add(Embedding(voc_size,embedding_vector_features,input_length=sent_length))\n",
        "model.add(LSTM(100))\n",
        "model.add(Dense(1,activation='sigmoid'))\n",
        "model.compile(loss='binary_crossentropy',optimizer='adam',metrics=['accuracy'])\n",
        "print(model.summary())"
      ],
      "metadata": {
        "colab": {
          "base_uri": "https://localhost:8080/"
        },
        "id": "DEOB6gR1rI0i",
        "outputId": "711fadee-9cc7-47a2-a9f2-8d011990be6c"
      },
      "execution_count": null,
      "outputs": [
        {
          "output_type": "stream",
          "name": "stdout",
          "text": [
            "Model: \"sequential_1\"\n",
            "_________________________________________________________________\n",
            " Layer (type)                Output Shape              Param #   \n",
            "=================================================================\n",
            " embedding (Embedding)       (None, 20, 40)            200000    \n",
            "                                                                 \n",
            " lstm (LSTM)                 (None, 100)               56400     \n",
            "                                                                 \n",
            " dense (Dense)               (None, 1)                 101       \n",
            "                                                                 \n",
            "=================================================================\n",
            "Total params: 256501 (1001.96 KB)\n",
            "Trainable params: 256501 (1001.96 KB)\n",
            "Non-trainable params: 0 (0.00 Byte)\n",
            "_________________________________________________________________\n",
            "None\n"
          ]
        }
      ]
    },
    {
      "cell_type": "code",
      "source": [
        "len(embedded_docs),y.shape"
      ],
      "metadata": {
        "colab": {
          "base_uri": "https://localhost:8080/"
        },
        "id": "YXoWZitZrQ-e",
        "outputId": "e54496ea-4806-4c12-a3d0-99467b65927f"
      },
      "execution_count": null,
      "outputs": [
        {
          "output_type": "execute_result",
          "data": {
            "text/plain": [
              "(10239, (10239,))"
            ]
          },
          "metadata": {},
          "execution_count": 49
        }
      ]
    },
    {
      "cell_type": "code",
      "source": [
        "import numpy as np\n",
        "X_final=np.array(embedded_docs)\n",
        "y_final=np.array(y)"
      ],
      "metadata": {
        "id": "TgPva3MTrSq7"
      },
      "execution_count": null,
      "outputs": []
    },
    {
      "cell_type": "code",
      "source": [
        "X_final.shape,y_final.shape"
      ],
      "metadata": {
        "colab": {
          "base_uri": "https://localhost:8080/"
        },
        "id": "aZbYqZ9HrT_U",
        "outputId": "83b229b3-5d95-4e29-a40e-7fb6abdba52b"
      },
      "execution_count": null,
      "outputs": [
        {
          "output_type": "execute_result",
          "data": {
            "text/plain": [
              "((10239, 20), (10239,))"
            ]
          },
          "metadata": {},
          "execution_count": 51
        }
      ]
    },
    {
      "cell_type": "code",
      "source": [
        "from sklearn.model_selection import train_test_split\n",
        "X_train, X_test, y_train, y_test = train_test_split(X_final, y_final, test_size=0.33, random_state=42)"
      ],
      "metadata": {
        "id": "0pBZtL_KrVaO"
      },
      "execution_count": null,
      "outputs": []
    },
    {
      "cell_type": "markdown",
      "source": [
        "# **Model Training**\n"
      ],
      "metadata": {
        "id": "qOYTUW62rano"
      }
    },
    {
      "cell_type": "code",
      "source": [
        "model.fit(X_train,y_train,validation_data=(X_test,y_test),epochs=10,batch_size=64)"
      ],
      "metadata": {
        "colab": {
          "base_uri": "https://localhost:8080/"
        },
        "id": "We6tU81YrXJA",
        "outputId": "94ea8c1a-9a5d-4373-a9df-d212b1bef8e7"
      },
      "execution_count": null,
      "outputs": [
        {
          "output_type": "stream",
          "name": "stdout",
          "text": [
            "Epoch 1/10\n",
            "108/108 [==============================] - 18s 125ms/step - loss: 0.6528 - accuracy: 0.6437 - val_loss: 0.6369 - val_accuracy: 0.6428\n",
            "Epoch 2/10\n",
            "108/108 [==============================] - 8s 77ms/step - loss: 0.5974 - accuracy: 0.6771 - val_loss: 0.6352 - val_accuracy: 0.6555\n",
            "Epoch 3/10\n",
            "108/108 [==============================] - 4s 36ms/step - loss: 0.5328 - accuracy: 0.7239 - val_loss: 0.7390 - val_accuracy: 0.6493\n",
            "Epoch 4/10\n",
            "108/108 [==============================] - 4s 38ms/step - loss: 0.4848 - accuracy: 0.7617 - val_loss: 0.7356 - val_accuracy: 0.6102\n",
            "Epoch 5/10\n",
            "108/108 [==============================] - 2s 23ms/step - loss: 0.4257 - accuracy: 0.7988 - val_loss: 0.8527 - val_accuracy: 0.6091\n",
            "Epoch 6/10\n",
            "108/108 [==============================] - 7s 65ms/step - loss: 0.3726 - accuracy: 0.8281 - val_loss: 0.9436 - val_accuracy: 0.5738\n",
            "Epoch 7/10\n",
            "108/108 [==============================] - 4s 34ms/step - loss: 0.3277 - accuracy: 0.8509 - val_loss: 0.9890 - val_accuracy: 0.5984\n",
            "Epoch 8/10\n",
            "108/108 [==============================] - 1s 13ms/step - loss: 0.2921 - accuracy: 0.8727 - val_loss: 1.3222 - val_accuracy: 0.5620\n",
            "Epoch 9/10\n",
            "108/108 [==============================] - 3s 23ms/step - loss: 0.2595 - accuracy: 0.8879 - val_loss: 1.2668 - val_accuracy: 0.5910\n",
            "Epoch 10/10\n",
            "108/108 [==============================] - 2s 20ms/step - loss: 0.2292 - accuracy: 0.9054 - val_loss: 1.4877 - val_accuracy: 0.5792\n"
          ]
        },
        {
          "output_type": "execute_result",
          "data": {
            "text/plain": [
              "<keras.src.callbacks.History at 0x786eee9afdc0>"
            ]
          },
          "metadata": {},
          "execution_count": 53
        }
      ]
    },
    {
      "cell_type": "code",
      "source": [
        "# Save the model to a file\n",
        "model.save('/content/drive/MyDrive/FakenewsModel/fake_news_predict.h5')"
      ],
      "metadata": {
        "id": "Uvq5H3lrrkA-",
        "colab": {
          "base_uri": "https://localhost:8080/"
        },
        "outputId": "d6ea784b-32f5-4bfe-8668-c3fc1a580b86"
      },
      "execution_count": null,
      "outputs": [
        {
          "output_type": "stream",
          "name": "stderr",
          "text": [
            "/usr/local/lib/python3.10/dist-packages/keras/src/engine/training.py:3079: UserWarning: You are saving your model as an HDF5 file via `model.save()`. This file format is considered legacy. We recommend using instead the native Keras format, e.g. `model.save('my_model.keras')`.\n",
            "  saving_api.save_model(\n"
          ]
        }
      ]
    },
    {
      "cell_type": "code",
      "source": [
        "y_pred_prob = model.predict(X_test)\n",
        "y_pred = (y_pred_prob > 0.5).astype(int)"
      ],
      "metadata": {
        "colab": {
          "base_uri": "https://localhost:8080/"
        },
        "id": "RoF744ECrmhX",
        "outputId": "eecd0e3b-20ac-4231-e9c4-66940e7577ac"
      },
      "execution_count": null,
      "outputs": [
        {
          "output_type": "stream",
          "name": "stdout",
          "text": [
            "106/106 [==============================] - 1s 2ms/step\n"
          ]
        }
      ]
    },
    {
      "cell_type": "markdown",
      "source": [
        "# **Confusion Matrix**"
      ],
      "metadata": {
        "id": "7Vfz2eAwtKQK"
      }
    },
    {
      "cell_type": "code",
      "source": [
        "from sklearn.metrics import confusion_matrix"
      ],
      "metadata": {
        "id": "4mfXVp8TrrUz"
      },
      "execution_count": null,
      "outputs": []
    },
    {
      "cell_type": "code",
      "source": [
        "confusion_matrix(y_test,y_pred)"
      ],
      "metadata": {
        "colab": {
          "base_uri": "https://localhost:8080/"
        },
        "id": "-Xl8ueqirtMz",
        "outputId": "fd4093b0-3a6c-4bbd-9696-1604b3d13404"
      },
      "execution_count": null,
      "outputs": [
        {
          "output_type": "execute_result",
          "data": {
            "text/plain": [
              "array([[ 490,  716],\n",
              "       [ 706, 1467]])"
            ]
          },
          "metadata": {},
          "execution_count": 57
        }
      ]
    },
    {
      "cell_type": "code",
      "source": [
        "conf_matrix = confusion_matrix(y_test, y_pred)"
      ],
      "metadata": {
        "id": "AewOf9oNrvAQ"
      },
      "execution_count": null,
      "outputs": []
    },
    {
      "cell_type": "code",
      "source": [
        "import seaborn as sns\n",
        "import matplotlib.pyplot as plt"
      ],
      "metadata": {
        "id": "nw7G6h2yrzlC"
      },
      "execution_count": null,
      "outputs": []
    },
    {
      "cell_type": "code",
      "source": [
        "plt.figure(figsize=(8, 6))\n",
        "sns.heatmap(conf_matrix, annot=True, fmt='d', cmap='Blues', cbar=False)\n",
        "plt.xlabel('Predicted')\n",
        "plt.ylabel('Actual')\n",
        "plt.title('Confusion Matrix')\n",
        "plt.show()"
      ],
      "metadata": {
        "colab": {
          "base_uri": "https://localhost:8080/",
          "height": 564
        },
        "id": "dolxGZzJr1FH",
        "outputId": "d5438822-7c7e-401f-af61-ef5ecfeeb90e"
      },
      "execution_count": null,
      "outputs": [
        {
          "output_type": "display_data",
          "data": {
            "text/plain": [
              "<Figure size 800x600 with 1 Axes>"
            ],
            "image/png": "[encoded data removed]"
          },
          "metadata": {}
        }
      ]
    },
    {
      "cell_type": "markdown",
      "source": [
        "# **Accuracy**"
      ],
      "metadata": {
        "id": "z5x1S4uRr5Hg"
      }
    },
    {
      "cell_type": "code",
      "source": [
        "from sklearn.metrics import accuracy_score\n",
        "accuracy_score(y_test,y_pred)"
      ],
      "metadata": {
        "colab": {
          "base_uri": "https://localhost:8080/"
        },
        "id": "DVEoQ_74r2xL",
        "outputId": "869a5e87-35a7-45f7-e90d-370d5182f3aa"
      },
      "execution_count": null,
      "outputs": [
        {
          "output_type": "execute_result",
          "data": {
            "text/plain": [
              "0.5791654335602249"
            ]
          },
          "metadata": {},
          "execution_count": 61
        }
      ]
    },
    {
      "cell_type": "code",
      "source": [
        "# Text preprocessing function\n",
        "def preprocess_text(text):\n",
        "    ps = PorterStemmer()\n",
        "    review = re.sub('[^a-zA-Z]', ' ', text)\n",
        "    review = review.lower()\n",
        "    review = review.split()\n",
        "    review = [ps.stem(word) for word in review if not word in stopwords.words('english')]\n",
        "    review = ' '.join(review)\n",
        "    return review\n",
        "\n",
        "\n",
        "# Function to predict\n",
        "def predict_statement(statement, model):\n",
        "    voc_size = 5000\n",
        "    sent_length = 20\n",
        "\n",
        "    # Preprocess the user input\n",
        "    processed_statement = preprocess_text(statement)\n",
        "\n",
        "    # One-hot encode the preprocessed statement\n",
        "    input_data = [one_hot(processed_statement, voc_size)]\n",
        "    padded_input = pad_sequences(input_data, padding='pre', maxlen=sent_length)\n",
        "\n",
        "    # Make a prediction\n",
        "    prediction = model.predict(np.array(padded_input))\n",
        "\n",
        "    # Convert prediction to 0 or 1\n",
        "    prediction = (prediction > 0.5).astype(int)\n",
        "\n",
        "    return prediction[0][0]"
      ],
      "metadata": {
        "id": "hPmSLVNkr8QK"
      },
      "execution_count": null,
      "outputs": []
    },
    {
      "cell_type": "code",
      "source": [
        "# # Load the pre-trained model\n",
        "# model = load_model()\n",
        "\n",
        "# Take input from the user\n",
        "# user_input = input(\"Enter a statement: \")\n",
        "\n",
        "#example 1 (real news)\n",
        "# user_input = \"\"\"Hillary Clinton agrees with John McCain\n",
        "# \"by voting to give George Bush the benefit of the doubt on Iran.\"\"\"\n",
        "\n",
        "\n",
        "# example 2 (fake news)\n",
        "user_input = \"\"\"Health care reform legislation is likely to mandate free sex change surgeries.\"\"\"\n",
        "# Predict the label (0 or 1)\n",
        "result = predict_statement(user_input, model)\n",
        "\n",
        "if result == 0:\n",
        "    print(\"The statement is mostly true or true.\")\n",
        "else:\n",
        "    print(\"The statement is false or barely true.\")"
      ],
      "metadata": {
        "colab": {
          "base_uri": "https://localhost:8080/"
        },
        "id": "r-LwHwo0r_Q7",
        "outputId": "309062f8-8f3b-4fe3-a347-930a69adda5f"
      },
      "execution_count": null,
      "outputs": [
        {
          "output_type": "stream",
          "name": "stdout",
          "text": [
            "1/1 [==============================] - 0s 18ms/step\n",
            "The statement is false or barely true.\n"
          ]
        }
      ]
    },
    {
      "cell_type": "code",
      "source": [
        "from tensorflow.keras.models import load_model\n",
        "\n",
        "# Load the saved model\n",
        "loaded_model = load_model('/content/drive/MyDrive/FakenewsModel/fake_news_predict.h5')"
      ],
      "metadata": {
        "id": "RZfvd1QisJx-"
      },
      "execution_count": null,
      "outputs": []
    },
    {
      "cell_type": "code",
      "source": [
        "#example 1 (real news)\n",
        "user_input = \"\"\"Hillary Clinton agrees with John McCain\n",
        "\"by voting to give George Bush the benefit of the doubt on Iran.\"\"\"\n",
        "\n",
        "result = predict_statement(user_input, loaded_model)\n",
        "\n",
        "if result == 0:\n",
        "    print(\"The statement is mostly true or true.\")\n",
        "else:\n",
        "    print(\"The statement is false or barely true.\")"
      ],
      "metadata": {
        "colab": {
          "base_uri": "https://localhost:8080/"
        },
        "id": "yAqY8KCJsLuP",
        "outputId": "30db650b-ca5a-4f66-f6f4-9aef1fae260a"
      },
      "execution_count": null,
      "outputs": [
        {
          "output_type": "stream",
          "name": "stdout",
          "text": [
            "1/1 [==============================] - 0s 329ms/step\n",
            "The statement is mostly true or true.\n"
          ]
        }
      ]
    },
    {
      "cell_type": "code",
      "source": [
        "#example 2 (real news)\n",
        "user_input = \"\"\"Karnataka bandh: Cabs, autos off roads, chaos at airport, several detained\"\"\"\n",
        "\n",
        "result = predict_statement(user_input, loaded_model)\n",
        "\n",
        "if result == 0:\n",
        "    print(\"The statement is mostly true or true.\")\n",
        "else:\n",
        "    print(\"The statement is false or barely true.\")"
      ],
      "metadata": {
        "colab": {
          "base_uri": "https://localhost:8080/"
        },
        "id": "aiA0z15ItCBR",
        "outputId": "3089c8fe-6818-4edb-ecd0-136557c76a94"
      },
      "execution_count": null,
      "outputs": [
        {
          "output_type": "stream",
          "name": "stdout",
          "text": [
            "1/1 [==============================] - 0s 18ms/step\n",
            "The statement is mostly true or true.\n"
          ]
        }
      ]
    },
    {
      "cell_type": "markdown",
      "source": [
        "## **Using Transformer Model**"
      ],
      "metadata": {
        "id": "3IGJTwtUrQVP"
      }
    },
    {
      "cell_type": "code",
      "source": [
        "!pip install transformers"
      ],
      "metadata": {
        "id": "Tc9m1T_6o-Ja"
      },
      "execution_count": null,
      "outputs": []
    },
    {
      "cell_type": "code",
      "source": [
        "from transformers import BertTokenizer, TFBertForSequenceClassification\n",
        "import tensorflow as tf\n",
        "print(\"GPU Available: \", tf.config.list_physical_devices('GPU'))"
      ],
      "metadata": {
        "colab": {
          "base_uri": "https://localhost:8080/"
        },
        "id": "Rd2z0Ne0kTaO",
        "outputId": "790722c6-8f89-4a23-c616-8b5578ace339"
      },
      "execution_count": null,
      "outputs": [
        {
          "output_type": "stream",
          "name": "stdout",
          "text": [
            "GPU Available:  [PhysicalDevice(name='/physical_device:GPU:0', device_type='GPU')]\n"
          ]
        }
      ]
    },
    {
      "cell_type": "code",
      "source": [
        "tokenizer = BertTokenizer.from_pretrained(\"bert-base-uncased\")\n",
        "\n",
        "# Tokenize your text data\n",
        "inputs = tokenizer(df['title'].tolist(), padding=True, truncation=True, return_tensors=\"tf\")\n",
        "\n",
        "# Create TensorFlow datasets\n",
        "dataset = tf.data.Dataset.from_tensor_slices((dict(inputs), y))\n",
        "dataset = dataset.shuffle(len(dataset)).batch(8)"
      ],
      "metadata": {
        "id": "OSK_eqBpkU_r"
      },
      "execution_count": null,
      "outputs": []
    },
    {
      "cell_type": "code",
      "source": [
        "modelTransformerModel = TFBertForSequenceClassification.from_pretrained(\"bert-base-uncased\")"
      ],
      "metadata": {
        "colab": {
          "base_uri": "https://localhost:8080/"
        },
        "id": "xpz4VVCbkWpZ",
        "outputId": "7abee29d-81ad-46f8-978f-51cbf2f25be8"
      },
      "execution_count": null,
      "outputs": [
        {
          "output_type": "stream",
          "name": "stderr",
          "text": [
            "All PyTorch model weights were used when initializing TFBertForSequenceClassification.\n",
            "\n",
            "Some weights or buffers of the TF 2.0 model TFBertForSequenceClassification were not initialized from the PyTorch model and are newly initialized: ['classifier.weight', 'classifier.bias']\n",
            "You should probably TRAIN this model on a down-stream task to be able to use it for predictions and inference.\n"
          ]
        }
      ]
    },
    {
      "cell_type": "code",
      "source": [
        "optimizer = tf.keras.optimizers.Adam(learning_rate=1e-5)\n",
        "loss = tf.keras.losses.SparseCategoricalCrossentropy(from_logits=True)\n",
        "metrics = ['accuracy']\n",
        "\n",
        "modelTransformerModel.compile(optimizer=optimizer, loss=loss, metrics=metrics)\n",
        "\n",
        "modelTransformerModel.fit(dataset, epochs=3)"
      ],
      "metadata": {
        "colab": {
          "base_uri": "https://localhost:8080/"
        },
        "id": "0Y85y3gbkkER",
        "outputId": "b5793952-613e-4dec-d7a2-dfd037af9d41"
      },
      "execution_count": null,
      "outputs": [
        {
          "output_type": "stream",
          "name": "stdout",
          "text": [
            "Epoch 1/3\n",
            "1280/1280 [==============================] - 1217s 913ms/step - loss: 0.6307 - accuracy: 0.6501\n",
            "Epoch 2/3\n",
            "1280/1280 [==============================] - 1177s 920ms/step - loss: 0.5846 - accuracy: 0.6916\n",
            "Epoch 3/3\n",
            "1280/1280 [==============================] - 1173s 916ms/step - loss: 0.4641 - accuracy: 0.7795\n"
          ]
        },
        {
          "output_type": "execute_result",
          "data": {
            "text/plain": [
              "<keras.src.callbacks.History at 0x786f903569b0>"
            ]
          },
          "metadata": {},
          "execution_count": 104
        }
      ]
    },
    {
      "cell_type": "markdown",
      "source": [
        "# **Confusion Matrix and Accuracy**"
      ],
      "metadata": {
        "id": "jFDs43EzvafD"
      }
    },
    {
      "cell_type": "code",
      "source": [
        "import numpy as np\n",
        "from sklearn.metrics import confusion_matrix, accuracy_score\n",
        "import matplotlib.pyplot as plt\n",
        "import seaborn as sns\n",
        "\n",
        "y_pred = modelTransformerModel.predict(dataset)\n",
        "y_pred = np.argmax(y_pred.logits, axis=1)\n",
        "\n",
        "y_true = np.concatenate([y for x, y in dataset])\n",
        "\n",
        "confusion_mat = confusion_matrix(y_true, y_pred)\n",
        "\n",
        "accuracy = accuracy_score(y_true, y_pred)\n",
        "\n",
        "plt.figure(figsize=(8, 6))\n",
        "sns.heatmap(confusion_mat, annot=True, fmt='d', cmap='Blues', cbar=False)\n",
        "plt.xlabel('Predicted')\n",
        "plt.ylabel('Actual')\n",
        "plt.title(f'Confusion Matrix\\nAccuracy: {accuracy:.2f}')\n",
        "plt.show()\n"
      ],
      "metadata": {
        "colab": {
          "base_uri": "https://localhost:8080/",
          "height": 620
        },
        "id": "uaNFQB_xvaCM",
        "outputId": "1406ea58-a1b4-4961-b700-8acb8523c1be"
      },
      "execution_count": null,
      "outputs": [
        {
          "output_type": "stream",
          "name": "stdout",
          "text": [
            "1280/1280 [==============================] - 415s 322ms/step\n"
          ]
        },
        {
          "output_type": "display_data",
          "data": {
            "text/plain": [
              "<Figure size 800x600 with 1 Axes>"
            ],
            "image/png": "[encoded data removed]"
          },
          "metadata": {}
        },
        {
          "output_type": "stream",
          "name": "stdout",
          "text": [
            "Accuracy: 0.53\n"
          ]
        }
      ]
    },
    {
      "cell_type": "markdown",
      "source": [
        "# **Accuracy of Transformer Model**"
      ],
      "metadata": {
        "id": "vXPUN7ptCvrk"
      }
    },
    {
      "cell_type": "code",
      "source": [
        "print(f'Accuracy: {accuracy:.2f}')"
      ],
      "metadata": {
        "colab": {
          "base_uri": "https://localhost:8080/"
        },
        "id": "gwxDjm-2C072",
        "outputId": "2fcdc814-c92c-406a-a2d2-c970257bf7fc"
      },
      "execution_count": null,
      "outputs": [
        {
          "output_type": "stream",
          "name": "stdout",
          "text": [
            "Accuracy: 0.53\n"
          ]
        }
      ]
    },
    {
      "cell_type": "markdown",
      "source": [
        "# **Saving the weights and model for Transformer Model**"
      ],
      "metadata": {
        "id": "X7nHt-A5rXnJ"
      }
    },
    {
      "cell_type": "code",
      "source": [
        "# Save model weights\n",
        "modelTransformerModel.save_weights('/content/drive/MyDrive/FakenewsModel/fake_news_predict_with_transformer_weights.h5')\n",
        "\n",
        "# Load model weights\n",
        "modelTransformerModel.load_weights('/content/drive/MyDrive/FakenewsModel/fake_news_predict_with_transformer_weights.h5')\n"
      ],
      "metadata": {
        "id": "ZYyGj7VCuhog"
      },
      "execution_count": null,
      "outputs": []
    },
    {
      "cell_type": "code",
      "source": [
        "modelTransformerModel.save('/content/drive/MyDrive/FakenewsModel/fake_news_predict_with_transformer_model', save_format=\"tf\")"
      ],
      "metadata": {
        "id": "I7BNVRgXuqjc"
      },
      "execution_count": null,
      "outputs": []
    },
    {
      "cell_type": "code",
      "source": [
        "model = tf.keras.models.load_model('/content/drive/MyDrive/FakenewsModel/fake_news_predict_with_transformer_model')"
      ],
      "metadata": {
        "id": "O4XrURPH4Wi3"
      },
      "execution_count": null,
      "outputs": []
    },
    {
      "cell_type": "markdown",
      "source": [
        "# **Prediction by Loading the transformer Model**"
      ],
      "metadata": {
        "id": "_iNj_O0jrkOp"
      }
    },
    {
      "cell_type": "code",
      "source": [
        "from transformers import BertTokenizer, TFBertForSequenceClassification\n",
        "from google.colab import drive\n",
        "drive.mount('/content/drive')\n",
        "\n",
        "modelLoaded = TFBertForSequenceClassification.from_pretrained(\"bert-base-uncased\")\n",
        "modelLoaded.load_weights('/content/drive/MyDrive/FakenewsModel/fake_news_predict_with_transformer_weights.h5')\n"
      ],
      "metadata": {
        "colab": {
          "base_uri": "https://localhost:8080/"
        },
        "id": "LTuG_eB2gyZS",
        "outputId": "b1e7c8a9-26ad-4ead-c00c-e547828f4f7b"
      },
      "execution_count": null,
      "outputs": [
        {
          "output_type": "stream",
          "name": "stdout",
          "text": [
            "Mounted at /content/drive\n"
          ]
        },
        {
          "output_type": "stream",
          "name": "stderr",
          "text": [
            "All PyTorch model weights were used when initializing TFBertForSequenceClassification.\n",
            "\n",
            "Some weights or buffers of the TF 2.0 model TFBertForSequenceClassification were not initialized from the PyTorch model and are newly initialized: ['classifier.weight', 'classifier.bias']\n",
            "You should probably TRAIN this model on a down-stream task to be able to use it for predictions and inference.\n"
          ]
        }
      ]
    },
    {
      "cell_type": "code",
      "source": [
        "from transformers import BertTokenizer\n",
        "\n",
        "tokenizer = BertTokenizer.from_pretrained(\"bert-base-uncased\")\n",
        "user_input = \"\"\"Hillary Clinton agrees with John McCain\n",
        "\"by voting to give George Bush the benefit of the doubt on Iran.\"\"\"\n",
        "\n",
        "text = user_input\n",
        "\n",
        "inputs = tokenizer(text, padding=True, truncation=True, return_tensors=\"tf\")"
      ],
      "metadata": {
        "id": "_SaqUCZ1gzaw"
      },
      "execution_count": null,
      "outputs": []
    },
    {
      "cell_type": "code",
      "source": [
        "prediction = modelLoaded(inputs)"
      ],
      "metadata": {
        "id": "6H0gfkgrqQH6"
      },
      "execution_count": null,
      "outputs": []
    },
    {
      "cell_type": "code",
      "source": [
        "predicted_label = tf.argmax(prediction.logits, axis=1).numpy()[0]"
      ],
      "metadata": {
        "id": "PxZZWUP_qTOi"
      },
      "execution_count": null,
      "outputs": []
    },
    {
      "cell_type": "code",
      "source": [
        "probabilities = tf.nn.softmax(prediction.logits, axis=1).numpy()[0]"
      ],
      "metadata": {
        "id": "eDLIN6h7qWLw"
      },
      "execution_count": null,
      "outputs": []
    },
    {
      "cell_type": "code",
      "source": [
        "print(probabilities)"
      ],
      "metadata": {
        "colab": {
          "base_uri": "https://localhost:8080/"
        },
        "id": "eDkKmfiOqfNt",
        "outputId": "b7b6b542-f6a5-485a-f7a2-455865b22fba"
      },
      "execution_count": null,
      "outputs": [
        {
          "output_type": "stream",
          "name": "stdout",
          "text": [
            "[0.81110597 0.188894  ]\n"
          ]
        }
      ]
    },
    {
      "cell_type": "code",
      "source": [
        "if probabilities[0] >= 0.5:\n",
        "    print(\"The statement is mostly true or true.\")\n",
        "else:\n",
        "    print(\"The statement is false or barely true.\")"
      ],
      "metadata": {
        "colab": {
          "base_uri": "https://localhost:8080/"
        },
        "id": "WLwuQMMiqljd",
        "outputId": "dea1221f-8e00-438a-f96c-6b405b25e667"
      },
      "execution_count": null,
      "outputs": [
        {
          "output_type": "stream",
          "name": "stdout",
          "text": [
            "The statement is mostly true or true.\n"
          ]
        }
      ]
    },
    {
      "cell_type": "markdown",
      "source": [
        "# **Using SimpleRNN Model**"
      ],
      "metadata": {
        "id": "g6C8W6xOr1-1"
      }
    },
    {
      "cell_type": "code",
      "source": [
        "from tensorflow.keras.layers import SimpleRNN\n",
        "\n",
        "# Creating model\n",
        "embedding_vector_features = 40\n",
        "modelSimpleRNN = Sequential()\n",
        "modelSimpleRNN.add(Embedding(voc_size, embedding_vector_features, input_length=sent_length))\n",
        "modelSimpleRNN.add(SimpleRNN(100))\n",
        "modelSimpleRNN.add(Dense(1, activation='sigmoid'))\n",
        "modelSimpleRNN.compile(loss='binary_crossentropy', optimizer='adam', metrics=['accuracy'])\n",
        "print(modelSimpleRNN.summary())"
      ],
      "metadata": {
        "colab": {
          "base_uri": "https://localhost:8080/"
        },
        "id": "3m0j3oExr4eJ",
        "outputId": "e0d8c1b1-cebf-4f66-d092-19ba5d48ec9e"
      },
      "execution_count": null,
      "outputs": [
        {
          "output_type": "stream",
          "name": "stdout",
          "text": [
            "Model: \"sequential_4\"\n",
            "_________________________________________________________________\n",
            " Layer (type)                Output Shape              Param #   \n",
            "=================================================================\n",
            " embedding_3 (Embedding)     (None, 20, 40)            200000    \n",
            "                                                                 \n",
            " simple_rnn_1 (SimpleRNN)    (None, 100)               14100     \n",
            "                                                                 \n",
            " dense_3 (Dense)             (None, 1)                 101       \n",
            "                                                                 \n",
            "=================================================================\n",
            "Total params: 214201 (836.72 KB)\n",
            "Trainable params: 214201 (836.72 KB)\n",
            "Non-trainable params: 0 (0.00 Byte)\n",
            "_________________________________________________________________\n",
            "None\n"
          ]
        }
      ]
    },
    {
      "cell_type": "code",
      "source": [
        "modelSimpleRNN.fit(X_train,y_train,validation_data=(X_test,y_test),epochs=10,batch_size=64)"
      ],
      "metadata": {
        "colab": {
          "base_uri": "https://localhost:8080/"
        },
        "id": "hVRgAlwur_o_",
        "outputId": "0b24fe72-4d75-40d2-a3a2-90bb487100f4"
      },
      "execution_count": null,
      "outputs": [
        {
          "output_type": "stream",
          "name": "stdout",
          "text": [
            "Epoch 1/10\n",
            "108/108 [==============================] - 11s 87ms/step - loss: 0.6542 - accuracy: 0.6445 - val_loss: 0.6526 - val_accuracy: 0.6428\n",
            "Epoch 2/10\n",
            "108/108 [==============================] - 6s 54ms/step - loss: 0.5765 - accuracy: 0.6926 - val_loss: 0.6962 - val_accuracy: 0.6067\n",
            "Epoch 3/10\n",
            "108/108 [==============================] - 6s 54ms/step - loss: 0.3573 - accuracy: 0.8465 - val_loss: 0.8788 - val_accuracy: 0.5762\n",
            "Epoch 4/10\n",
            "108/108 [==============================] - 9s 80ms/step - loss: 0.1817 - accuracy: 0.9284 - val_loss: 1.1518 - val_accuracy: 0.5780\n",
            "Epoch 5/10\n",
            "108/108 [==============================] - 4s 41ms/step - loss: 0.0979 - accuracy: 0.9675 - val_loss: 1.4105 - val_accuracy: 0.5812\n",
            "Epoch 6/10\n",
            "108/108 [==============================] - 3s 29ms/step - loss: 0.0717 - accuracy: 0.9765 - val_loss: 1.5781 - val_accuracy: 0.5661\n",
            "Epoch 7/10\n",
            "108/108 [==============================] - 4s 40ms/step - loss: 0.0446 - accuracy: 0.9880 - val_loss: 1.8398 - val_accuracy: 0.5528\n",
            "Epoch 8/10\n",
            "108/108 [==============================] - 4s 34ms/step - loss: 0.0337 - accuracy: 0.9917 - val_loss: 1.9695 - val_accuracy: 0.5635\n",
            "Epoch 9/10\n",
            "108/108 [==============================] - 3s 26ms/step - loss: 0.0331 - accuracy: 0.9902 - val_loss: 1.9068 - val_accuracy: 0.5706\n",
            "Epoch 10/10\n",
            "108/108 [==============================] - 2s 23ms/step - loss: 0.0183 - accuracy: 0.9964 - val_loss: 2.3288 - val_accuracy: 0.5697\n"
          ]
        },
        {
          "output_type": "execute_result",
          "data": {
            "text/plain": [
              "<keras.src.callbacks.History at 0x786eeef861d0>"
            ]
          },
          "metadata": {},
          "execution_count": 108
        }
      ]
    },
    {
      "cell_type": "code",
      "source": [
        "from tensorflow.keras.layers import GRU\n",
        "\n",
        "# Creating model\n",
        "embedding_vector_features = 40\n",
        "modelGRU = Sequential()\n",
        "modelGRU.add(Embedding(voc_size, embedding_vector_features, input_length=sent_length))\n",
        "modelGRU.add(GRU(100))  # Change this line to use GRU\n",
        "modelGRU.add(Dense(1, activation='sigmoid'))\n",
        "modelGRU.compile(loss='binary_crossentropy', optimizer='adam', metrics=['accuracy'])\n",
        "print(modelGRU.summary())"
      ],
      "metadata": {
        "colab": {
          "base_uri": "https://localhost:8080/"
        },
        "id": "leNRJS6psssr",
        "outputId": "61723613-b60f-4981-ccba-4695f569a01a"
      },
      "execution_count": null,
      "outputs": [
        {
          "output_type": "stream",
          "name": "stdout",
          "text": [
            "Model: \"sequential_5\"\n",
            "_________________________________________________________________\n",
            " Layer (type)                Output Shape              Param #   \n",
            "=================================================================\n",
            " embedding_4 (Embedding)     (None, 20, 40)            200000    \n",
            "                                                                 \n",
            " gru_1 (GRU)                 (None, 100)               42600     \n",
            "                                                                 \n",
            " dense_4 (Dense)             (None, 1)                 101       \n",
            "                                                                 \n",
            "=================================================================\n",
            "Total params: 242701 (948.05 KB)\n",
            "Trainable params: 242701 (948.05 KB)\n",
            "Non-trainable params: 0 (0.00 Byte)\n",
            "_________________________________________________________________\n",
            "None\n"
          ]
        }
      ]
    },
    {
      "cell_type": "code",
      "source": [
        "modelGRU.fit(X_train,y_train,validation_data=(X_test,y_test),epochs=10,batch_size=64)"
      ],
      "metadata": {
        "colab": {
          "base_uri": "https://localhost:8080/"
        },
        "id": "1X_vWH6tsuc9",
        "outputId": "8370e389-c808-46c9-ed7f-92f9d36d8a1a"
      },
      "execution_count": null,
      "outputs": [
        {
          "output_type": "stream",
          "name": "stdout",
          "text": [
            "Epoch 1/10\n",
            "108/108 [==============================] - 11s 82ms/step - loss: 0.6540 - accuracy: 0.6430 - val_loss: 0.6438 - val_accuracy: 0.6431\n",
            "Epoch 2/10\n",
            "108/108 [==============================] - 3s 24ms/step - loss: 0.6043 - accuracy: 0.6722 - val_loss: 0.6429 - val_accuracy: 0.6493\n",
            "Epoch 3/10\n",
            "108/108 [==============================] - 2s 20ms/step - loss: 0.5233 - accuracy: 0.7366 - val_loss: 0.6991 - val_accuracy: 0.6227\n",
            "Epoch 4/10\n",
            "108/108 [==============================] - 1s 12ms/step - loss: 0.4480 - accuracy: 0.7828 - val_loss: 0.8014 - val_accuracy: 0.5869\n",
            "Epoch 5/10\n",
            "108/108 [==============================] - 1s 13ms/step - loss: 0.3884 - accuracy: 0.8200 - val_loss: 0.8568 - val_accuracy: 0.6132\n",
            "Epoch 6/10\n",
            "108/108 [==============================] - 2s 16ms/step - loss: 0.3375 - accuracy: 0.8520 - val_loss: 0.9518 - val_accuracy: 0.5792\n",
            "Epoch 7/10\n",
            "108/108 [==============================] - 1s 13ms/step - loss: 0.2962 - accuracy: 0.8727 - val_loss: 1.1027 - val_accuracy: 0.5744\n",
            "Epoch 8/10\n",
            "108/108 [==============================] - 2s 15ms/step - loss: 0.2490 - accuracy: 0.8990 - val_loss: 1.1955 - val_accuracy: 0.5981\n",
            "Epoch 9/10\n",
            "108/108 [==============================] - 1s 8ms/step - loss: 0.2062 - accuracy: 0.9181 - val_loss: 1.4874 - val_accuracy: 0.5786\n",
            "Epoch 10/10\n",
            "108/108 [==============================] - 1s 10ms/step - loss: 0.1724 - accuracy: 0.9327 - val_loss: 1.7321 - val_accuracy: 0.5821\n"
          ]
        },
        {
          "output_type": "execute_result",
          "data": {
            "text/plain": [
              "<keras.src.callbacks.History at 0x786f37567cd0>"
            ]
          },
          "metadata": {},
          "execution_count": 110
        }
      ]
    },
    {
      "cell_type": "code",
      "source": [
        "# Save the model to a file\n",
        "modelSimpleRNN.save('/content/drive/MyDrive/FakenewsModel/fake_news_predict_with_simple_rnn.h5')"
      ],
      "metadata": {
        "colab": {
          "base_uri": "https://localhost:8080/"
        },
        "id": "DoTB2MDSsw1J",
        "outputId": "f1d136f4-6471-4b9f-ca9b-ddab8cdad176"
      },
      "execution_count": null,
      "outputs": [
        {
          "output_type": "stream",
          "name": "stderr",
          "text": [
            "/usr/local/lib/python3.10/dist-packages/keras/src/engine/training.py:3079: UserWarning: You are saving your model as an HDF5 file via `model.save()`. This file format is considered legacy. We recommend using instead the native Keras format, e.g. `model.save('my_model.keras')`.\n",
            "  saving_api.save_model(\n"
          ]
        }
      ]
    },
    {
      "cell_type": "code",
      "source": [
        "modelGRU.save('/content/drive/MyDrive/FakenewsModel/fake_news_predict_with_gru_model.h5')"
      ],
      "metadata": {
        "id": "hJa0RDLWtE_-"
      },
      "execution_count": null,
      "outputs": []
    },
    {
      "cell_type": "markdown",
      "source": [
        "# **Confusion Matrix for SimpleRNN**"
      ],
      "metadata": {
        "id": "1BmRk2mdtmYm"
      }
    },
    {
      "cell_type": "code",
      "source": [
        "y_pred_prob = modelSimpleRNN.predict(X_test)\n",
        "y_pred = (y_pred_prob > 0.5).astype(int)"
      ],
      "metadata": {
        "colab": {
          "base_uri": "https://localhost:8080/"
        },
        "id": "eTqvpLbAtLpG",
        "outputId": "406cc0c9-f977-403d-c307-a5a78143e137"
      },
      "execution_count": null,
      "outputs": [
        {
          "output_type": "stream",
          "name": "stdout",
          "text": [
            "106/106 [==============================] - 0s 3ms/step\n"
          ]
        }
      ]
    },
    {
      "cell_type": "code",
      "source": [
        "from sklearn.metrics import confusion_matrix"
      ],
      "metadata": {
        "id": "XfSiqxdCtXYz"
      },
      "execution_count": null,
      "outputs": []
    },
    {
      "cell_type": "code",
      "source": [
        "conf_matrix = confusion_matrix(y_test, y_pred)"
      ],
      "metadata": {
        "id": "T-q3P48OtbYz"
      },
      "execution_count": null,
      "outputs": []
    },
    {
      "cell_type": "code",
      "source": [
        "conf_matrix"
      ],
      "metadata": {
        "colab": {
          "base_uri": "https://localhost:8080/"
        },
        "id": "N9ixicZttcrP",
        "outputId": "28e3c450-8572-4d1b-a655-e32148f13f73"
      },
      "execution_count": null,
      "outputs": [
        {
          "output_type": "execute_result",
          "data": {
            "text/plain": [
              "array([[ 446,  760],\n",
              "       [ 694, 1479]])"
            ]
          },
          "metadata": {},
          "execution_count": 116
        }
      ]
    },
    {
      "cell_type": "code",
      "source": [
        "plt.figure(figsize=(8, 6))\n",
        "sns.heatmap(conf_matrix, annot=True, fmt='d', cmap='Blues', cbar=False)\n",
        "plt.xlabel('Predicted')\n",
        "plt.ylabel('Actual')\n",
        "plt.title('Confusion Matrix')\n",
        "plt.show()"
      ],
      "metadata": {
        "colab": {
          "base_uri": "https://localhost:8080/",
          "height": 564
        },
        "id": "ZMT9h8UHtdra",
        "outputId": "6eccd513-cb51-41cb-a3b8-7ea6a40b121b"
      },
      "execution_count": null,
      "outputs": [
        {
          "output_type": "display_data",
          "data": {
            "text/plain": [
              "<Figure size 800x600 with 1 Axes>"
            ],
            "image/png": "[encoded data removed]"
          },
          "metadata": {}
        }
      ]
    },
    {
      "cell_type": "markdown",
      "source": [
        "**Accuracy of SimpleRNN**"
      ],
      "metadata": {
        "id": "ei9OqxPRuOEo"
      }
    },
    {
      "cell_type": "code",
      "source": [
        "from sklearn.metrics import accuracy_score\n",
        "accuracy_score(y_test,y_pred)"
      ],
      "metadata": {
        "colab": {
          "base_uri": "https://localhost:8080/"
        },
        "id": "XXCMAa6muMHG",
        "outputId": "81d1905d-1f63-45aa-f854-24443bc46354"
      },
      "execution_count": null,
      "outputs": [
        {
          "output_type": "execute_result",
          "data": {
            "text/plain": [
              "0.5696951760875999"
            ]
          },
          "metadata": {},
          "execution_count": 118
        }
      ]
    },
    {
      "cell_type": "markdown",
      "source": [
        "# **Confusion Matrix for GRU Model**"
      ],
      "metadata": {
        "id": "swQQ_2hNtuYp"
      }
    },
    {
      "cell_type": "code",
      "source": [
        "y_pred_prob = modelGRU.predict(X_test)\n",
        "y_pred = (y_pred_prob > 0.5).astype(int)"
      ],
      "metadata": {
        "colab": {
          "base_uri": "https://localhost:8080/"
        },
        "id": "43c-nbvxtgE1",
        "outputId": "ce90b1f7-145e-4420-b679-44dec9df56ce"
      },
      "execution_count": null,
      "outputs": [
        {
          "output_type": "stream",
          "name": "stdout",
          "text": [
            "106/106 [==============================] - 1s 2ms/step\n"
          ]
        }
      ]
    },
    {
      "cell_type": "code",
      "source": [
        "from sklearn.metrics import confusion_matrix"
      ],
      "metadata": {
        "id": "s7SvBQupt3J5"
      },
      "execution_count": null,
      "outputs": []
    },
    {
      "cell_type": "code",
      "source": [
        "conf_matrix = confusion_matrix(y_test, y_pred)"
      ],
      "metadata": {
        "id": "foR2b9vTt5Ze"
      },
      "execution_count": null,
      "outputs": []
    },
    {
      "cell_type": "code",
      "source": [
        "conf_matrix"
      ],
      "metadata": {
        "colab": {
          "base_uri": "https://localhost:8080/"
        },
        "id": "_Xo2ei-0t7LN",
        "outputId": "892dd2f0-7904-4fcb-80ec-6cad6e64dc07"
      },
      "execution_count": null,
      "outputs": [
        {
          "output_type": "execute_result",
          "data": {
            "text/plain": [
              "array([[ 482,  724],\n",
              "       [ 688, 1485]])"
            ]
          },
          "metadata": {},
          "execution_count": 122
        }
      ]
    },
    {
      "cell_type": "code",
      "source": [
        "plt.figure(figsize=(8, 6))\n",
        "sns.heatmap(conf_matrix, annot=True, fmt='d', cmap='Blues', cbar=False)\n",
        "plt.xlabel('Predicted')\n",
        "plt.ylabel('Actual')\n",
        "plt.title('Confusion Matrix')\n",
        "plt.show()"
      ],
      "metadata": {
        "colab": {
          "base_uri": "https://localhost:8080/",
          "height": 564
        },
        "id": "Rnieude3t8Ni",
        "outputId": "36a77876-0eb3-45fd-e796-c86647b58aa9"
      },
      "execution_count": null,
      "outputs": [
        {
          "output_type": "display_data",
          "data": {
            "text/plain": [
              "<Figure size 800x600 with 1 Axes>"
            ],
            "image/png": "[encoded data removed]"
          },
          "metadata": {}
        }
      ]
    },
    {
      "cell_type": "markdown",
      "source": [
        "**Accuracy of GRUModel**"
      ],
      "metadata": {
        "id": "_lvkPCbVuStf"
      }
    },
    {
      "cell_type": "code",
      "source": [
        "from sklearn.metrics import accuracy_score\n",
        "accuracy_score(y_test,y_pred)"
      ],
      "metadata": {
        "colab": {
          "base_uri": "https://localhost:8080/"
        },
        "id": "dvhdP8FEt-EK",
        "outputId": "a8ca0134-0302-4802-bc37-16560dd0406b"
      },
      "execution_count": null,
      "outputs": [
        {
          "output_type": "execute_result",
          "data": {
            "text/plain": [
              "0.5821248890204203"
            ]
          },
          "metadata": {},
          "execution_count": 124
        }
      ]
    },
    {
      "cell_type": "markdown",
      "source": [
        "***Therefore GRU Model is Better than SimpleRNN and LSTM is Better than the other two***"
      ],
      "metadata": {
        "id": "TkPfp6U7udiD"
      }
    }
  ]
}